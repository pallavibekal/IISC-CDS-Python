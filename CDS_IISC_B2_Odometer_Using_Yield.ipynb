{
  "nbformat": 4,
  "nbformat_minor": 0,
  "metadata": {
    "colab": {
      "name": "CDS-IISC-B2-Odometer-Using Yield.ipynb",
      "provenance": [],
      "collapsed_sections": [],
      "authorship_tag": "ABX9TyPiJGzoCa08xv5VeFwXRnHI",
      "include_colab_link": true
    },
    "kernelspec": {
      "name": "python3",
      "display_name": "Python 3"
    },
    "language_info": {
      "name": "python"
    }
  },
  "cells": [
    {
      "cell_type": "markdown",
      "metadata": {
        "id": "view-in-github",
        "colab_type": "text"
      },
      "source": [
        "<a href=\"https://colab.research.google.com/github/pallavibekal/IISC-CDS-Python/blob/main/CDS_IISC_B2_Odometer_Using_Yield.ipynb\" target=\"_parent\"><img src=\"https://colab.research.google.com/assets/colab-badge.svg\" alt=\"Open In Colab\"/></a>"
      ]
    },
    {
      "cell_type": "markdown",
      "metadata": {
        "id": "dSRIC048TlX0"
      },
      "source": [
        "### ODOMETER DESIGN\n",
        "\n",
        "• The readings of the odometer cannot have the digit 0\n",
        "\n",
        "• The digits of the reading must be in ascending order.\n",
        "\n",
        "##### getfirst() - get the first valid odometer reading for the given number of digits (ex-3 -> 123, 4-> 1234)\n",
        "##### getlast() - get the last valid odometer reading for the given number of digits(ex-3 -> 789, 4 -> 6789)\n",
        "##### isvalid() - check if a number has its digits in ascending order\n",
        "##### next_reading2 () - Gives the next valid odometer reading (no checks to revert back to first valid reading when last reading is reached)\n",
        "##### prev_reading2 () - Gives the previous odometer reading(no checks to revert back to last valid reading when first reading is reached)\n",
        "##### getlist() - for a given number of digits, gives a list of all valid odometer readings\n",
        "##### next_reading () - gives next valid odometer reading after cycling back to first valid reading when last is reached\n",
        "##### prev_reading () - gives previous valid odometer reading, cycling back to last when first odometer reading is reached\n",
        "##### get_distance () - gives the distance between 2 odometer readings\n",
        "##### nthreading_after() - gives the nth reading after a odometer reading\n",
        "##### nthreading_before() - gives the nth reading before a odometer reading"
      ]
    },
    {
      "cell_type": "code",
      "metadata": {
        "id": "n26C87qjTl4t"
      },
      "source": [
        "def getfirst(n: int) -> int:\n",
        "    return sum([(10**i)*(n-i) for i in range(n)])"
      ],
      "execution_count": 1,
      "outputs": []
    },
    {
      "cell_type": "code",
      "metadata": {
        "id": "yNFu-Z9RTuEM"
      },
      "source": [
        "def getlast(n: int) -> int:\n",
        "    return sum([(10**i)*(9-i) for i in range(n)])"
      ],
      "execution_count": 2,
      "outputs": []
    },
    {
      "cell_type": "code",
      "metadata": {
        "id": "xrdWQRGKTvY2"
      },
      "source": [
        "def isvalid(n) -> bool:\n",
        "    while n // 10 > 0:\n",
        "        prev = n//10%10 \n",
        "        if n%10 <= prev:\n",
        "            return False\n",
        "        n//=10\n",
        "    return True"
      ],
      "execution_count": 3,
      "outputs": []
    },
    {
      "cell_type": "code",
      "metadata": {
        "id": "_C35K_ZUTwzu"
      },
      "source": [
        "def next_reading2(nextn: int) -> int:\n",
        "    nextn += 1\n",
        "    while isvalid(nextn) is False:\n",
        "        nextn += 1\n",
        "    yield nextn "
      ],
      "execution_count": 4,
      "outputs": []
    },
    {
      "cell_type": "code",
      "metadata": {
        "id": "2Yg_HEA8TycC"
      },
      "source": [
        "def prev_reading2(prevn: int) -> int:\n",
        "    prevn -= 1\n",
        "    while isvalid(prevn) is False:\n",
        "        prevn -= 1\n",
        "    yield prevn "
      ],
      "execution_count": 5,
      "outputs": []
    },
    {
      "cell_type": "code",
      "metadata": {
        "id": "NPLRfoqyT0EV"
      },
      "source": [
        "def getlist(r: int) -> list:\n",
        "    first = getfirst(r)\n",
        "    last = getlast(r)\n",
        "    x = []\n",
        "    i = first\n",
        "    x.append(i)\n",
        "    while i < last:\n",
        "        f1 = next_reading2(i)\n",
        "        for i in f1:\n",
        "            x.append(i)\n",
        "    return x"
      ],
      "execution_count": 6,
      "outputs": []
    },
    {
      "cell_type": "code",
      "metadata": {
        "colab": {
          "base_uri": "https://localhost:8080/"
        },
        "id": "_LxW8O0uT1r5",
        "outputId": "58b60c3b-b71c-4059-86fd-df5eb5433d1c"
      },
      "source": [
        "# 3 digit odometer\n",
        "%%time\n",
        "x = getlist(3)\n",
        "print(x)"
      ],
      "execution_count": 13,
      "outputs": [
        {
          "output_type": "stream",
          "text": [
            "[123, 124, 125, 126, 127, 128, 129, 134, 135, 136, 137, 138, 139, 145, 146, 147, 148, 149, 156, 157, 158, 159, 167, 168, 169, 178, 179, 189, 234, 235, 236, 237, 238, 239, 245, 246, 247, 248, 249, 256, 257, 258, 259, 267, 268, 269, 278, 279, 289, 345, 346, 347, 348, 349, 356, 357, 358, 359, 367, 368, 369, 378, 379, 389, 456, 457, 458, 459, 467, 468, 469, 478, 479, 489, 567, 568, 569, 578, 579, 589, 678, 679, 689, 789]\n",
            "CPU times: user 1.55 ms, sys: 0 ns, total: 1.55 ms\n",
            "Wall time: 1.88 ms\n"
          ],
          "name": "stdout"
        }
      ]
    },
    {
      "cell_type": "code",
      "metadata": {
        "id": "3iB7ALZWT4y-"
      },
      "source": [
        "def next_reading(nextn: int) -> int:\n",
        "    if nextn >= getlast(len(str(nextn))):\n",
        "        return getfirst(len(str(nextn)))\n",
        "    nextnn = next_reading2(nextn)\n",
        "    for i in nextnn:\n",
        "        return i "
      ],
      "execution_count": 14,
      "outputs": []
    },
    {
      "cell_type": "code",
      "metadata": {
        "id": "AZ6m_XgtUFyB"
      },
      "source": [
        "def prev_reading(prevn):\n",
        "    if prevn <= getfirst(len(str(prevn))):\n",
        "        return getlast(len(str(prevn)))\n",
        "    prevnn = prev_reading2(prevn)\n",
        "    for i in prevnn: \n",
        "        return i "
      ],
      "execution_count": 15,
      "outputs": []
    },
    {
      "cell_type": "code",
      "metadata": {
        "id": "PUC_hpdIUHPy"
      },
      "source": [
        "def get_distance(start: int, end: int) -> int:\n",
        "    x = start\n",
        "    count_of = 0\n",
        "    while x < end:\n",
        "        nextn = next_reading2(x)\n",
        "        for i in nextn:\n",
        "            x = i \n",
        "        count_of += 1\n",
        "    return count_of            \n",
        "    "
      ],
      "execution_count": 16,
      "outputs": []
    },
    {
      "cell_type": "code",
      "metadata": {
        "id": "oP-DROt1UKTQ"
      },
      "source": [
        "def nthreading_after(n: int,r: int) -> int:\n",
        "    x = n\n",
        "    for i in range(r):\n",
        "        nextn = next_reading2(x)\n",
        "        for j in nextn:\n",
        "            x =j\n",
        "    if x > getlast(len(str(n))):\n",
        "        x = getfirst(len(str(n)))\n",
        "    return x "
      ],
      "execution_count": 17,
      "outputs": []
    },
    {
      "cell_type": "code",
      "metadata": {
        "id": "JLtJ3Q8ZUMET"
      },
      "source": [
        "def nthreading_before(n: int,r: int) -> int:\n",
        "    x = n\n",
        "    for i in range(r):\n",
        "        prevn = prev_reading2(x)\n",
        "        for j in prevn:\n",
        "            x =j\n",
        "    if x < getfirst(len(str(n))):\n",
        "        x = getlast(len(str(n)))\n",
        "    return x "
      ],
      "execution_count": 18,
      "outputs": []
    },
    {
      "cell_type": "code",
      "metadata": {
        "colab": {
          "base_uri": "https://localhost:8080/"
        },
        "id": "YWDut5HNUOeb",
        "outputId": "ab0d81ec-ef89-4652-f0d7-cf8c75cabcc6"
      },
      "source": [
        "print(prev_reading(789))"
      ],
      "execution_count": 19,
      "outputs": [
        {
          "output_type": "stream",
          "text": [
            "689\n"
          ],
          "name": "stdout"
        }
      ]
    },
    {
      "cell_type": "code",
      "metadata": {
        "colab": {
          "base_uri": "https://localhost:8080/"
        },
        "id": "mN3lDfa4UQ9r",
        "outputId": "8fa1271f-8dcf-4c18-8204-e8359cafe439"
      },
      "source": [
        "print(next_reading(789))"
      ],
      "execution_count": 20,
      "outputs": [
        {
          "output_type": "stream",
          "text": [
            "123\n"
          ],
          "name": "stdout"
        }
      ]
    },
    {
      "cell_type": "code",
      "metadata": {
        "colab": {
          "base_uri": "https://localhost:8080/"
        },
        "id": "ZbtEKFTnUSZN",
        "outputId": "7dfdcfa0-51ab-4b50-eda9-bb34087ce80c"
      },
      "source": [
        "get_distance(123, 789)"
      ],
      "execution_count": 21,
      "outputs": [
        {
          "output_type": "execute_result",
          "data": {
            "text/plain": [
              "83"
            ]
          },
          "metadata": {
            "tags": []
          },
          "execution_count": 21
        }
      ]
    },
    {
      "cell_type": "code",
      "metadata": {
        "colab": {
          "base_uri": "https://localhost:8080/"
        },
        "id": "wLBFrcFLUUkA",
        "outputId": "0703ed99-e792-4574-e256-d2aa5fe4b8bb"
      },
      "source": [
        "nthreading_after(123,84)"
      ],
      "execution_count": 22,
      "outputs": [
        {
          "output_type": "execute_result",
          "data": {
            "text/plain": [
              "123"
            ]
          },
          "metadata": {
            "tags": []
          },
          "execution_count": 22
        }
      ]
    },
    {
      "cell_type": "code",
      "metadata": {
        "colab": {
          "base_uri": "https://localhost:8080/"
        },
        "id": "2WE8eenwUXeA",
        "outputId": "12560f99-2990-4e0f-d554-7156c4bd25ff"
      },
      "source": [
        "nthreading_before(124,2)"
      ],
      "execution_count": 23,
      "outputs": [
        {
          "output_type": "execute_result",
          "data": {
            "text/plain": [
              "789"
            ]
          },
          "metadata": {
            "tags": []
          },
          "execution_count": 23
        }
      ]
    },
    {
      "cell_type": "code",
      "metadata": {
        "id": "FobQ-0ZLUZkO"
      },
      "source": [
        ""
      ],
      "execution_count": null,
      "outputs": []
    }
  ]
}