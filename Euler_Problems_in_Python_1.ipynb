{
  "nbformat": 4,
  "nbformat_minor": 0,
  "metadata": {
    "colab": {
      "name": "Euler Problems in Python - 1.ipynb",
      "provenance": [],
      "collapsed_sections": [],
      "authorship_tag": "ABX9TyOOGvlqnTg5EmZ5EltU+9K1",
      "include_colab_link": true
    },
    "kernelspec": {
      "name": "python3",
      "display_name": "Python 3"
    },
    "language_info": {
      "name": "python"
    }
  },
  "cells": [
    {
      "cell_type": "markdown",
      "metadata": {
        "id": "view-in-github",
        "colab_type": "text"
      },
      "source": [
        "<a href=\"https://colab.research.google.com/github/pallavibekal/IISC-CDS-Python/blob/main/Euler_Problems_in_Python_1.ipynb\" target=\"_parent\"><img src=\"https://colab.research.google.com/assets/colab-badge.svg\" alt=\"Open In Colab\"/></a>"
      ]
    },
    {
      "cell_type": "markdown",
      "metadata": {
        "id": "fJ5h-bfYVj5B"
      },
      "source": [
        "Find the sum of multiples of 3 or 5 below 1000"
      ]
    },
    {
      "cell_type": "code",
      "metadata": {
        "colab": {
          "base_uri": "https://localhost:8080/"
        },
        "id": "qET05SD0VoOb",
        "outputId": "f3445d3d-de6e-4e7b-9bb4-e2c8f0bccc24"
      },
      "source": [
        "# Project Euler  \n",
        "LIMIT = 1000\n",
        "n, total = 1, 0\n",
        "while n < LIMIT:\n",
        "  if n % 3 == 0 or n % 5 == 0:\n",
        "    total += n\n",
        "  n += 1\n",
        "print(total)"
      ],
      "execution_count": null,
      "outputs": [
        {
          "output_type": "stream",
          "text": [
            "233168\n"
          ],
          "name": "stdout"
        }
      ]
    },
    {
      "cell_type": "code",
      "metadata": {
        "colab": {
          "base_uri": "https://localhost:8080/"
        },
        "id": "A6wlm_0OXJbu",
        "outputId": "d2404b23-f289-4011-923d-42c49fa6f567"
      },
      "source": [
        "LIMIT = 1000\n",
        "total = 0\n",
        "for n in range(1,LIMIT):\n",
        "  if n % 3 == 0 or n % 5 == 0:\n",
        "    total += n\n",
        "print(total)\n"
      ],
      "execution_count": null,
      "outputs": [
        {
          "output_type": "stream",
          "text": [
            "233168\n"
          ],
          "name": "stdout"
        }
      ]
    },
    {
      "cell_type": "code",
      "metadata": {
        "colab": {
          "base_uri": "https://localhost:8080/"
        },
        "id": "bgWbFbn5Yauw",
        "outputId": "2e420a8b-3f17-47ed-c9c2-1849ad91d4b4"
      },
      "source": [
        "def select(n: int) -> bool:\n",
        "  return n % 3 == 0 or n % 5 == 0\n",
        "\n",
        "LIMIT = 1000\n",
        "n, total = 1, 0\n",
        "\n",
        "while n < LIMIT:\n",
        "  if select(n):\n",
        "    total += n\n",
        "  n += 1\n",
        "print(total)\n"
      ],
      "execution_count": null,
      "outputs": [
        {
          "output_type": "stream",
          "text": [
            "233168\n"
          ],
          "name": "stdout"
        }
      ]
    },
    {
      "cell_type": "code",
      "metadata": {
        "colab": {
          "base_uri": "https://localhost:8080/"
        },
        "id": "SUwDNiwtZerG",
        "outputId": "cad5438a-f56b-45a2-b135-f74ff7e86238"
      },
      "source": [
        "LIMIT = 1000\n",
        "total = 0\n",
        "for n in range(1, LIMIT):\n",
        "  if select(n):\n",
        "    total += n\n",
        "print(total)"
      ],
      "execution_count": null,
      "outputs": [
        {
          "output_type": "stream",
          "text": [
            "233168\n"
          ],
          "name": "stdout"
        }
      ]
    },
    {
      "cell_type": "code",
      "metadata": {
        "colab": {
          "base_uri": "https://localhost:8080/"
        },
        "id": "PvCnuPana6Vp",
        "outputId": "3bc501d5-408b-448a-db52-865424f2b65c"
      },
      "source": [
        "LIMIT = 1000\n",
        "sum(range(3, LIMIT, 3)) + sum(range(5, LIMIT, 5)) - sum(range(15, LIMIT, 15))"
      ],
      "execution_count": null,
      "outputs": [
        {
          "output_type": "execute_result",
          "data": {
            "text/plain": [
              "233168"
            ]
          },
          "metadata": {
            "tags": []
          },
          "execution_count": 10
        }
      ]
    },
    {
      "cell_type": "code",
      "metadata": {
        "colab": {
          "base_uri": "https://localhost:8080/"
        },
        "id": "n_CO6l3JczPR",
        "outputId": "55844c00-2e3e-46fe-f45d-b6f8c08a2e65"
      },
      "source": [
        "sum(set(range(3, LIMIT, 3)) | set(range(5, LIMIT, 5)))"
      ],
      "execution_count": null,
      "outputs": [
        {
          "output_type": "execute_result",
          "data": {
            "text/plain": [
              "233168"
            ]
          },
          "metadata": {
            "tags": []
          },
          "execution_count": 12
        }
      ]
    },
    {
      "cell_type": "code",
      "metadata": {
        "colab": {
          "base_uri": "https://localhost:8080/"
        },
        "id": "sg8_tRSmd7H9",
        "outputId": "c62afea0-e29e-4918-fee5-8543c440b870"
      },
      "source": [
        "sum([x for x in range(1, LIMIT) if select(x)])"
      ],
      "execution_count": null,
      "outputs": [
        {
          "output_type": "execute_result",
          "data": {
            "text/plain": [
              "233168"
            ]
          },
          "metadata": {
            "tags": []
          },
          "execution_count": 13
        }
      ]
    },
    {
      "cell_type": "code",
      "metadata": {
        "colab": {
          "base_uri": "https://localhost:8080/"
        },
        "id": "Mpynqs-nh4Lr",
        "outputId": "511cdfa2-d67f-403b-9b89-63d01b36c54d"
      },
      "source": [
        "sum(filter(select, (range(1,LIMIT))))"
      ],
      "execution_count": null,
      "outputs": [
        {
          "output_type": "execute_result",
          "data": {
            "text/plain": [
              "233168"
            ]
          },
          "metadata": {
            "tags": []
          },
          "execution_count": 15
        }
      ]
    },
    {
      "cell_type": "code",
      "metadata": {
        "id": "Cxdlgzn0ibH3"
      },
      "source": [
        "filter?"
      ],
      "execution_count": null,
      "outputs": []
    },
    {
      "cell_type": "markdown",
      "metadata": {
        "id": "E6WPUgp6V9yz"
      },
      "source": [
        "Find the sum of all the primes below two million."
      ]
    },
    {
      "cell_type": "code",
      "metadata": {
        "id": "TSpfuiwAWBzY"
      },
      "source": [
        "def even(n: int) -> bool:\n",
        "  return n % 2 == 0\n",
        "  "
      ],
      "execution_count": null,
      "outputs": []
    },
    {
      "cell_type": "code",
      "metadata": {
        "colab": {
          "base_uri": "https://localhost:8080/"
        },
        "id": "z8CN7NQqkddw",
        "outputId": "807ab80b-f7ff-4d61-92fa-b82aec2599b1"
      },
      "source": [
        "list(filter(even, range(1, 20)))"
      ],
      "execution_count": null,
      "outputs": [
        {
          "output_type": "execute_result",
          "data": {
            "text/plain": [
              "[2, 4, 6, 8, 10, 12, 14, 16, 18]"
            ]
          },
          "metadata": {
            "tags": []
          },
          "execution_count": 20
        }
      ]
    },
    {
      "cell_type": "code",
      "metadata": {
        "colab": {
          "base_uri": "https://localhost:8080/"
        },
        "id": "kU2Ds41UkqlD",
        "outputId": "d9c78e87-2930-4f0b-ca6a-aa28cada06a8"
      },
      "source": [
        "sum(filter(even, range(1,20)))"
      ],
      "execution_count": null,
      "outputs": [
        {
          "output_type": "execute_result",
          "data": {
            "text/plain": [
              "90"
            ]
          },
          "metadata": {
            "tags": []
          },
          "execution_count": 21
        }
      ]
    },
    {
      "cell_type": "code",
      "metadata": {
        "id": "b0ceSgkjkwbs"
      },
      "source": [
        "even?"
      ],
      "execution_count": null,
      "outputs": []
    },
    {
      "cell_type": "code",
      "metadata": {
        "id": "XpIXbXq8kxPt"
      },
      "source": [
        "even??"
      ],
      "execution_count": null,
      "outputs": []
    },
    {
      "cell_type": "code",
      "metadata": {
        "id": "Cp3RubrckyKO"
      },
      "source": [
        ""
      ],
      "execution_count": null,
      "outputs": []
    },
    {
      "cell_type": "markdown",
      "metadata": {
        "id": "Ma3P2eoBuNzm"
      },
      "source": [
        "Euler Problem 10 : Sum of all prime numbers below 2 million"
      ]
    },
    {
      "cell_type": "code",
      "metadata": {
        "id": "t6o5HeGzuV0o"
      },
      "source": [
        "def is_prime(n: int) -> bool:\n",
        "  if n < 2:\n",
        "    return False\n",
        "  if n in [2, 3, 5, 7]:\n",
        "    return True\n",
        "  if n % 2 == 0:\n",
        "    return False\n",
        "  r = 3\n",
        "  while  r * r <= n:\n",
        "    if n % r == 0:\n",
        "      return False\n",
        "    r += 2\n",
        "  return True\n"
      ],
      "execution_count": null,
      "outputs": []
    },
    {
      "cell_type": "code",
      "metadata": {
        "colab": {
          "base_uri": "https://localhost:8080/"
        },
        "id": "2u4w6YQ3u9Gd",
        "outputId": "ba60f636-8599-4740-8fc9-a77299a6ec04"
      },
      "source": [
        "LIMIT = 2000000\n",
        "sum (filter(is_prime, range(LIMIT)))"
      ],
      "execution_count": null,
      "outputs": [
        {
          "output_type": "execute_result",
          "data": {
            "text/plain": [
              "142913828922"
            ]
          },
          "metadata": {
            "tags": []
          },
          "execution_count": 25
        }
      ]
    },
    {
      "cell_type": "code",
      "metadata": {
        "colab": {
          "base_uri": "https://localhost:8080/"
        },
        "id": "drOGOPZNybAD",
        "outputId": "e195ce22-07c0-4534-9bb2-9b7fdb042783"
      },
      "source": [
        "2 + sum(filter(is_prime,range(3,LIMIT,2)))"
      ],
      "execution_count": null,
      "outputs": [
        {
          "output_type": "execute_result",
          "data": {
            "text/plain": [
              "142913828922"
            ]
          },
          "metadata": {
            "tags": []
          },
          "execution_count": 30
        }
      ]
    },
    {
      "cell_type": "markdown",
      "metadata": {
        "id": "_CJ7jv1iz6Cp"
      },
      "source": [
        "The prime factors of 13195 are 5, 7, 13 and 29.\n",
        "\n",
        "What is the largest prime factor of the number 600851475143"
      ]
    },
    {
      "cell_type": "code",
      "metadata": {
        "id": "fOUKX5ofz6zs"
      },
      "source": [
        "def factorize(n: int) -> bool:\n",
        "  factors = []\n",
        "  while n % 2 == 0:\n",
        "    factors.append(2)\n",
        "    n //= 2\n",
        "  factor = 3\n",
        "  while n > 1:\n",
        "    while n % factor == 0:\n",
        "      factors.append(factor)\n",
        "      n //= factor\n",
        "    factor += 2\n",
        "  return factors"
      ],
      "execution_count": null,
      "outputs": []
    },
    {
      "cell_type": "code",
      "metadata": {
        "colab": {
          "base_uri": "https://localhost:8080/"
        },
        "id": "j9olLFgU0lc0",
        "outputId": "6890a8ae-40d6-4f7f-9410-aa5b68d8adb3"
      },
      "source": [
        "factorize(13195)"
      ],
      "execution_count": null,
      "outputs": [
        {
          "output_type": "execute_result",
          "data": {
            "text/plain": [
              "[5, 7, 13, 29]"
            ]
          },
          "metadata": {
            "tags": []
          },
          "execution_count": 34
        }
      ]
    },
    {
      "cell_type": "code",
      "metadata": {
        "colab": {
          "base_uri": "https://localhost:8080/"
        },
        "id": "mnBBqYLk0m4L",
        "outputId": "f632602c-11ce-415d-a2fb-bf3e9d820c75"
      },
      "source": [
        "max(factorize(600851475143))"
      ],
      "execution_count": null,
      "outputs": [
        {
          "output_type": "execute_result",
          "data": {
            "text/plain": [
              "6857"
            ]
          },
          "metadata": {
            "tags": []
          },
          "execution_count": 38
        }
      ]
    },
    {
      "cell_type": "code",
      "metadata": {
        "id": "reWcyFWp0zLw"
      },
      "source": [
        "def is_perfect_cube(n: int) -> bool:\n",
        "  r = 0 \n",
        "  while r * r * r < n:\n",
        "    r += 1\n",
        "  return r * r * r == n "
      ],
      "execution_count": null,
      "outputs": []
    },
    {
      "cell_type": "code",
      "metadata": {
        "colab": {
          "base_uri": "https://localhost:8080/"
        },
        "id": "JuBi3Lf959yi",
        "outputId": "44a41654-6dda-4b5d-8ebe-3c60beb67cd9"
      },
      "source": [
        "is_perfect_cube(10)"
      ],
      "execution_count": null,
      "outputs": [
        {
          "output_type": "execute_result",
          "data": {
            "text/plain": [
              "False"
            ]
          },
          "metadata": {
            "tags": []
          },
          "execution_count": 41
        }
      ]
    },
    {
      "cell_type": "code",
      "metadata": {
        "id": "F9wNwTwC6BGl"
      },
      "source": [
        "def is_power_of2(n: int) -> bool:\n",
        "  if n == 1:\n",
        "    return True\n",
        "  if n % 2 == 1:\n",
        "    return True\n",
        "  return is_power_of2(n // 2)"
      ],
      "execution_count": null,
      "outputs": []
    },
    {
      "cell_type": "code",
      "metadata": {
        "colab": {
          "base_uri": "https://localhost:8080/"
        },
        "id": "u_VGX7nE6fQh",
        "outputId": "2bc4bf39-7061-4a26-d964-01b69f833fd2"
      },
      "source": [
        "is_power_of2(7)"
      ],
      "execution_count": null,
      "outputs": [
        {
          "output_type": "execute_result",
          "data": {
            "text/plain": [
              "True"
            ]
          },
          "metadata": {
            "tags": []
          },
          "execution_count": 48
        }
      ]
    },
    {
      "cell_type": "code",
      "metadata": {
        "id": "KbK0m9JW6suh"
      },
      "source": [
        "def hermione(how_many: int) -> bool:\n",
        "  a, b = 0, 1\n",
        "  potter = []\n",
        "  for _ in range(0, how_many):\n",
        "    potter.append(a)\n",
        "    a, b = b, a+b\n",
        "  return potter\n",
        "    \n"
      ],
      "execution_count": null,
      "outputs": []
    },
    {
      "cell_type": "code",
      "metadata": {
        "colab": {
          "base_uri": "https://localhost:8080/"
        },
        "id": "gYTf1swD9we9",
        "outputId": "a24f29cd-e9a3-40c4-c33b-4c936a4a3b7f"
      },
      "source": [
        "hermione(10)"
      ],
      "execution_count": null,
      "outputs": [
        {
          "output_type": "execute_result",
          "data": {
            "text/plain": [
              "[0, 1, 1, 2, 3, 5, 8, 13, 21, 34]"
            ]
          },
          "metadata": {
            "tags": []
          },
          "execution_count": 56
        }
      ]
    },
    {
      "cell_type": "code",
      "metadata": {
        "id": "LYlt8XaV8sxu"
      },
      "source": [
        "def triangular(n):\n",
        "  def odd(n):\n",
        "    return n % 2 == 1\n",
        "  return sum(filter(odd, range(n))) "
      ],
      "execution_count": null,
      "outputs": []
    },
    {
      "cell_type": "code",
      "metadata": {
        "colab": {
          "base_uri": "https://localhost:8080/"
        },
        "id": "1IOyPEwG88nv",
        "outputId": "52748318-b790-4aa9-c743-5f2ee5a81069"
      },
      "source": [
        "triangular(10)"
      ],
      "execution_count": null,
      "outputs": [
        {
          "output_type": "execute_result",
          "data": {
            "text/plain": [
              "25"
            ]
          },
          "metadata": {
            "tags": []
          },
          "execution_count": 50
        }
      ]
    },
    {
      "cell_type": "code",
      "metadata": {
        "colab": {
          "base_uri": "https://localhost:8080/",
          "height": 163
        },
        "id": "uz4nMnsz8_d3",
        "outputId": "4808f851-26eb-42c5-e09c-af68f3b85e9d"
      },
      "source": [
        "odd(8)"
      ],
      "execution_count": null,
      "outputs": [
        {
          "output_type": "error",
          "ename": "NameError",
          "evalue": "ignored",
          "traceback": [
            "\u001b[0;31m---------------------------------------------------------------------------\u001b[0m",
            "\u001b[0;31mNameError\u001b[0m                                 Traceback (most recent call last)",
            "\u001b[0;32m<ipython-input-51-2c1fb27ad10e>\u001b[0m in \u001b[0;36m<module>\u001b[0;34m()\u001b[0m\n\u001b[0;32m----> 1\u001b[0;31m \u001b[0modd\u001b[0m\u001b[0;34m(\u001b[0m\u001b[0;36m8\u001b[0m\u001b[0;34m)\u001b[0m\u001b[0;34m\u001b[0m\u001b[0;34m\u001b[0m\u001b[0m\n\u001b[0m",
            "\u001b[0;31mNameError\u001b[0m: name 'odd' is not defined"
          ]
        }
      ]
    },
    {
      "cell_type": "code",
      "metadata": {
        "id": "hVVjVtlL9CD9"
      },
      "source": [
        "def weasly(n):\n",
        "  while n > 0:\n",
        "    if n % 2 == 1:\n",
        "      "
      ],
      "execution_count": null,
      "outputs": []
    },
    {
      "cell_type": "code",
      "metadata": {
        "id": "69wN4JTaAfTV"
      },
      "source": [
        "def snapes(n):\n",
        "  s = []\n",
        "  p = []\n",
        "  while n > 0:\n",
        "    s.append(n % 10) # use s.insert(0, n % 10)\n",
        "    p.insert(0, n % 10)\n",
        "    n //= 10\n",
        "  return s, print"
      ],
      "execution_count": null,
      "outputs": []
    },
    {
      "cell_type": "code",
      "metadata": {
        "colab": {
          "base_uri": "https://localhost:8080/"
        },
        "id": "xjjYCCc6Ax3d",
        "outputId": "e1395778-8e9e-4153-d406-fddae9ee4a1e"
      },
      "source": [
        "s, p = snapes(10)\n",
        "print(s)\n",
        "print(p)"
      ],
      "execution_count": null,
      "outputs": [
        {
          "output_type": "stream",
          "text": [
            "0\n",
            "1\n"
          ],
          "name": "stdout"
        }
      ]
    },
    {
      "cell_type": "code",
      "metadata": {
        "id": "VCoF4IVxAzt5"
      },
      "source": [
        ""
      ],
      "execution_count": null,
      "outputs": []
    }
  ]
}