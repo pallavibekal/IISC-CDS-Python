{
  "nbformat": 4,
  "nbformat_minor": 0,
  "metadata": {
    "date": 1627364945.1596882,
    "filename": "python_oop.md",
    "kernelspec": {
      "display_name": "Python",
      "language": "python3",
      "name": "python3"
    },
    "title": "OOP II: Building Classes",
    "colab": {
      "name": "2200092 - M2_AST_03_OOPs_Building_Classes_A.ipynb",
      "provenance": [],
      "collapsed_sections": [],
      "include_colab_link": true
    }
  },
  "cells": [
    {
      "cell_type": "markdown",
      "metadata": {
        "id": "view-in-github",
        "colab_type": "text"
      },
      "source": [
        "<a href=\"https://colab.research.google.com/github/pallavibekal/IISC-CDS-Python/blob/main/2200092_M2_AST_03_OOPs_Building_Classes_A.ipynb\" target=\"_parent\"><img src=\"https://colab.research.google.com/assets/colab-badge.svg\" alt=\"Open In Colab\"/></a>"
      ]
    },
    {
      "cell_type": "markdown",
      "metadata": {
        "id": "viral-vatican"
      },
      "source": [
        "# Advanced Certification Program in Computational Data Science\n",
        "## A program by IISc and TalentSprint\n",
        "### Assignment 3: OOPs - Building Classes"
      ]
    },
    {
      "cell_type": "markdown",
      "metadata": {
        "id": "under-mozambique"
      },
      "source": [
        "## Learning Objectives"
      ]
    },
    {
      "cell_type": "markdown",
      "metadata": {
        "id": "qTHJx-H5Lc79"
      },
      "source": [
        "At the end of the experiment, you will be able to\n",
        "\n",
        "- learn the general structure of classes in OOPs using python \n",
        "- learn how to build your own class using OOP, specialized to the needs \n",
        "\n"
      ]
    },
    {
      "cell_type": "markdown",
      "metadata": {
        "id": "1fxjxpV9S0Vi"
      },
      "source": [
        "### Information"
      ]
    },
    {
      "cell_type": "markdown",
      "metadata": {
        "id": "kvXA4KABS24N"
      },
      "source": [
        "Let us look at an instance where we want to write a program based on Consumers, who can\n",
        "\n",
        "- hold and spend cash  \n",
        "- consume goods  \n",
        "- work and earn cash  \n",
        "\n",
        "\n",
        "We could create consumers as objects with\n",
        "\n",
        "- data, such as cash on hand  \n",
        "- methods, such as `buy` or `work` that affect this data  \n",
        "\n",
        "\n",
        "This is easy to do with Python because it provides us with **class definitions**.\n",
        "\n",
        "Classes are blueprints that help us build objects according to our own specifications."
      ]
    },
    {
      "cell_type": "markdown",
      "metadata": {
        "id": "BNLA8HiKxQhc"
      },
      "source": [
        "### Setup Steps:"
      ]
    },
    {
      "cell_type": "code",
      "metadata": {
        "id": "2YzfoPvJDiTX"
      },
      "source": [
        "#@title Please enter your registration id to start: { run: \"auto\", display-mode: \"form\" }\n",
        "Id = \"2200092\" #@param {type:\"string\"}"
      ],
      "execution_count": 1,
      "outputs": []
    },
    {
      "cell_type": "code",
      "metadata": {
        "id": "AjoZJWGErxGf"
      },
      "source": [
        "#@title Please enter your password (your registered phone number) to continue: { run: \"auto\", display-mode: \"form\" }\n",
        "password = \"9686800288\" #@param {type:\"string\"}"
      ],
      "execution_count": 4,
      "outputs": []
    },
    {
      "cell_type": "code",
      "metadata": {
        "id": "WBPPuGmBlDIN",
        "cellView": "form",
        "colab": {
          "base_uri": "https://localhost:8080/",
          "height": 34
        },
        "outputId": "24f4f292-4307-4765-8b77-ff7078be2603"
      },
      "source": [
        "#@title Run this cell to complete the setup for this Notebook\n",
        "from IPython import get_ipython\n",
        "\n",
        "ipython = get_ipython()\n",
        "  \n",
        "notebook= \"M2_AST_03_OOPs_Building_Classes_A\" #name of the notebook\n",
        "\n",
        "def setup():\n",
        "#  ipython.magic(\"sx pip3 install torch\")  \n",
        "    from IPython.display import HTML, display\n",
        "    display(HTML('<script src=\"https://dashboard.talentsprint.com/aiml/record_ip.html?traineeId={0}&recordId={1}\"></script>'.format(getId(),submission_id)))\n",
        "    print(\"Setup completed successfully\")\n",
        "    return\n",
        "\n",
        "def submit_notebook():\n",
        "    ipython.magic(\"notebook -e \"+ notebook + \".ipynb\")\n",
        "    \n",
        "    import requests, json, base64, datetime\n",
        "\n",
        "    url = \"https://dashboard.talentsprint.com/xp/app/save_notebook_attempts\"\n",
        "    if not submission_id:\n",
        "      data = {\"id\" : getId(), \"notebook\" : notebook, \"mobile\" : getPassword()}\n",
        "      r = requests.post(url, data = data)\n",
        "      r = json.loads(r.text)\n",
        "\n",
        "      if r[\"status\"] == \"Success\":\n",
        "          return r[\"record_id\"]\n",
        "      elif \"err\" in r:        \n",
        "        print(r[\"err\"])\n",
        "        return None        \n",
        "      else:\n",
        "        print (\"Something is wrong, the notebook will not be submitted for grading\")\n",
        "        return None\n",
        "    \n",
        "    elif getAnswer() and getComplexity() and getAdditional() and getConcepts() and getComments() and getMentorSupport():\n",
        "      f = open(notebook + \".ipynb\", \"rb\")\n",
        "      file_hash = base64.b64encode(f.read())\n",
        "\n",
        "      data = {\"complexity\" : Complexity, \"additional\" :Additional, \n",
        "              \"concepts\" : Concepts, \"record_id\" : submission_id, \n",
        "              \"answer\" : Answer, \"id\" : Id, \"file_hash\" : file_hash,\n",
        "              \"notebook\" : notebook,\n",
        "              \"feedback_experiments_input\" : Comments,\n",
        "              \"feedback_mentor_support\": Mentor_support}\n",
        "      r = requests.post(url, data = data)\n",
        "      r = json.loads(r.text)\n",
        "      if \"err\" in r:        \n",
        "        print(r[\"err\"])\n",
        "        return None   \n",
        "      else:\n",
        "        print(\"Your submission is successful.\")\n",
        "        print(\"Ref Id:\", submission_id)\n",
        "        print(\"Date of submission: \", r[\"date\"])\n",
        "        print(\"Time of submission: \", r[\"time\"])\n",
        "        print(\"View your submissions: https://cds.iisc.talentsprint.com/notebook_submissions\")\n",
        "        #print(\"For any queries/discrepancies, please connect with mentors through the chat icon in LMS dashboard.\")\n",
        "        return submission_id\n",
        "    else: submission_id\n",
        "    \n",
        "\n",
        "def getAdditional():\n",
        "  try:\n",
        "    if not Additional: \n",
        "      raise NameError\n",
        "    else:\n",
        "      return Additional  \n",
        "  except NameError:\n",
        "    print (\"Please answer Additional Question\")\n",
        "    return None\n",
        "\n",
        "def getComplexity():\n",
        "  try:\n",
        "    if not Complexity:\n",
        "      raise NameError\n",
        "    else:\n",
        "      return Complexity\n",
        "  except NameError:\n",
        "    print (\"Please answer Complexity Question\")\n",
        "    return None\n",
        "  \n",
        "def getConcepts():\n",
        "  try:\n",
        "    if not Concepts:\n",
        "      raise NameError\n",
        "    else:\n",
        "      return Concepts\n",
        "  except NameError:\n",
        "    print (\"Please answer Concepts Question\")\n",
        "    return None\n",
        "  \n",
        "  \n",
        "# def getWalkthrough():\n",
        "#   try:\n",
        "#     if not Walkthrough:\n",
        "#       raise NameError\n",
        "#     else:\n",
        "#       return Walkthrough\n",
        "#   except NameError:\n",
        "#     print (\"Please answer Walkthrough Question\")\n",
        "#     return None\n",
        "  \n",
        "def getComments():\n",
        "  try:\n",
        "    if not Comments:\n",
        "      raise NameError\n",
        "    else:\n",
        "      return Comments\n",
        "  except NameError:\n",
        "    print (\"Please answer Comments Question\")\n",
        "    return None\n",
        "  \n",
        "\n",
        "def getMentorSupport():\n",
        "  try:\n",
        "    if not Mentor_support:\n",
        "      raise NameError\n",
        "    else:\n",
        "      return Mentor_support\n",
        "  except NameError:\n",
        "    print (\"Please answer Mentor support Question\")\n",
        "    return None\n",
        "\n",
        "def getAnswer():\n",
        "  try:\n",
        "    if not Answer:\n",
        "      raise NameError \n",
        "    else: \n",
        "      return Answer\n",
        "  except NameError:\n",
        "    print (\"Please answer Question\")\n",
        "    return None\n",
        "  \n",
        "\n",
        "def getId():\n",
        "  try: \n",
        "    return Id if Id else None\n",
        "  except NameError:\n",
        "    return None\n",
        "\n",
        "def getPassword():\n",
        "  try:\n",
        "    return password if password else None\n",
        "  except NameError:\n",
        "    return None\n",
        "\n",
        "submission_id = None\n",
        "### Setup \n",
        "if getPassword() and getId():\n",
        "  submission_id = submit_notebook()\n",
        "  if submission_id:\n",
        "    setup() \n",
        "else:\n",
        "  print (\"Please complete Id and Password cells before running setup\")\n",
        "\n"
      ],
      "execution_count": 5,
      "outputs": [
        {
          "output_type": "display_data",
          "data": {
            "text/html": [
              "<script src=\"https://dashboard.talentsprint.com/aiml/record_ip.html?traineeId=2200092&recordId=2701\"></script>"
            ],
            "text/plain": [
              "<IPython.core.display.HTML object>"
            ]
          },
          "metadata": {
            "tags": []
          }
        },
        {
          "output_type": "stream",
          "text": [
            "Setup completed successfully\n"
          ],
          "name": "stdout"
        }
      ]
    },
    {
      "cell_type": "markdown",
      "metadata": {
        "id": "LWim6q9RLc8h"
      },
      "source": [
        "### Why is OOP Useful?\n",
        "\n",
        "OOP is useful for recognizing and exploiting the common structure.\n",
        "\n",
        "For example,\n",
        " \n",
        "- *a game* consists of a list of players, lists of actions available to each player, each player’s payoffs as functions of all other players’ actions, and a timing protocol  \n",
        "\n",
        "\n",
        "These are all abstractions that collect together, “objects” of the same “type”.\n",
        "\n",
        "Recognizing common structure allows us to employ common tools.\n",
        "\n"
      ]
    },
    {
      "cell_type": "markdown",
      "metadata": {
        "id": "4vW4zl3ALc8j"
      },
      "source": [
        "### Defining Your Own Classes\n",
        "\n",
        "\n",
        "<a id='index-3'></a>\n",
        "Let’s build some simple classes to start off.\n",
        "\n",
        "\n",
        "<a id='oop-consumer-class'></a>\n",
        "Before we do so, in order to indicate some of the power of Classes, we’ll define two functions that we’ll call `earn` and `spend`."
      ]
    },
    {
      "cell_type": "code",
      "metadata": {
        "hide-output": false,
        "id": "1jI89DmwLc8n"
      },
      "source": [
        "def earn(w,y):\n",
        "    \"Consumer with inital wealth w earns y\"\n",
        "    # YOUR CODE HERE to return addition of w and y\n",
        "    return w+y\n",
        "\n",
        "def spend(w,x):\n",
        "    \"consumer with initial wealth w spends x\"\n",
        "    # YOUR CODE HERE to find new_wealth after spending x\n",
        "    new_wealth = w - x\n",
        "    if new_wealth < 0:\n",
        "        print(\"Insufficient funds\")\n",
        "    else:\n",
        "        #YOUR CODE HERE to return\n",
        "        return new_wealth"
      ],
      "execution_count": 7,
      "outputs": []
    },
    {
      "cell_type": "markdown",
      "metadata": {
        "id": "xkikjLPULc8q"
      },
      "source": [
        "The `earn` function takes a consumer’s initial wealth $ w $ and  adds to it her current earnings $ y $.\n",
        "\n",
        "The `spend` function takes a consumer’s initial wealth $ w $ and deducts from it  her current spending $ x $.\n",
        "\n",
        "We can use these two functions to keep track of a consumer’s wealth according to the earns and spends.\n",
        "\n",
        "For example"
      ]
    },
    {
      "cell_type": "code",
      "metadata": {
        "hide-output": false,
        "id": "H7BsJiVMLc8s",
        "colab": {
          "base_uri": "https://localhost:8080/"
        },
        "outputId": "da356210-521b-4fe6-9750-6530489d2bf0"
      },
      "source": [
        "w0=100                                             # intial wealth is 100\n",
        "w1=earn(w0,10)                                     # current earnings is 10\n",
        "w2=spend(w1,20)                                    # current spendings is 20\n",
        "w3=earn(w2,10)\n",
        "w4=spend(w3,20)\n",
        "# YOUR CODE HERE to print w0, w1, w2, w3, w4\n",
        "print(w0,w1,w2,w3)"
      ],
      "execution_count": 8,
      "outputs": [
        {
          "output_type": "stream",
          "text": [
            "100 110 90 100\n"
          ],
          "name": "stdout"
        }
      ]
    },
    {
      "cell_type": "markdown",
      "metadata": {
        "id": "Xbd8Ool1Lc8u"
      },
      "source": [
        "A *Class* bundles a set of data tied to a particular *instance* together with a collection of functions that operate on the data.\n",
        "\n",
        "In our example, an *instance* will be the name of  particular *person* whose *instance data* consists solely of its wealth.\n",
        "\n",
        "In our example, two functions `earn` and `spend` can be applied to the current instance data.\n",
        "\n",
        "Taken together,  the instance data and functions  are called *methods*.\n",
        "\n",
        "These can be readily accessed in ways described below."
      ]
    },
    {
      "cell_type": "markdown",
      "metadata": {
        "id": "PEIXB7wyLc8w"
      },
      "source": [
        "#### Example: A Consumer Class\n",
        "\n",
        "We’ll build a `Consumer` class with\n",
        "\n",
        "- a `wealth` attribute that stores the consumer’s wealth (data)  \n",
        "- an `earn` method, where `earn(y)` increments the consumer’s wealth by `y`  \n",
        "- a `spend` method, where `spend(x)` either decreases wealth by `x` or returns an error if insufficient funds exist  \n",
        "\n",
        "Here we set up our Consumer class."
      ]
    },
    {
      "cell_type": "code",
      "metadata": {
        "hide-output": false,
        "id": "waMYuZ5KLc8y"
      },
      "source": [
        "class Consumer:\n",
        "\n",
        "    def __init__(self, w):\n",
        "        \"Initialize consumer with w dollars of wealth\"\n",
        "        self.wealth = w\n",
        "\n",
        "    def earn(self, y):\n",
        "        \"The consumer earns y dollars\"\n",
        "        self.wealth += y\n",
        "\n",
        "    def spend(self, x):\n",
        "        \"The consumer spends x dollars if feasible\"\n",
        "        # YOUR CODE HERE to find new_wealth after spending x\n",
        "        new_wealth = self.wealth - x \n",
        "        if new_wealth < 0:\n",
        "            print(\"Insufficent funds\")\n",
        "        else:\n",
        "            self.wealth = new_wealth"
      ],
      "execution_count": 9,
      "outputs": []
    },
    {
      "cell_type": "markdown",
      "metadata": {
        "id": "qMavu3m0Lc8z"
      },
      "source": [
        "Let us see the special syntax used above:\n",
        "\n",
        "- The `class` keyword indicates that we are building a class.  \n",
        "\n",
        "\n",
        "The `Consumer` class defines instance data `wealth` and three methods: `__init__`, `earn` and `spend`\n",
        "\n",
        "- `wealth` is *instance data* because each consumer we create (each instance of the `Consumer` class) will have its own wealth data.  \n",
        "\n",
        "\n",
        "The `earn` and `spend` methods deploy the functions we described earlier and that can potentially be applied to the `wealth` instance data.\n",
        "\n",
        "The `__init__` method is a *constructor method*.\n",
        "\n",
        "Whenever we create an instance of the class, the `__init_` method will be called automatically.\n",
        "\n",
        "Calling `__init__` sets up a “namespace” to hold the instance data — more on this soon.\n",
        "\n",
        "We’ll also discuss the role of the peculiar  `self` book keeping device in detail below."
      ]
    },
    {
      "cell_type": "markdown",
      "metadata": {
        "id": "02837gd5Lc80"
      },
      "source": [
        "#### Usage\n",
        "\n",
        "Here’s an example in which we use the class `Consumer` to create an instance of a consumer called $ c1 $.\n",
        "\n",
        "After we create consumer $ c1 $ and endow it with initial wealth $ 10 $, we’ll apply the `spend` method."
      ]
    },
    {
      "cell_type": "code",
      "metadata": {
        "hide-output": false,
        "id": "elUmsEknLc82",
        "colab": {
          "base_uri": "https://localhost:8080/"
        },
        "outputId": "828c867f-b36b-4051-b17a-602f1d338f6c"
      },
      "source": [
        "c1 = Consumer(10)  # Create instance with initial wealth 10\n",
        "c1.spend(5)        # Create spend of 5 \n",
        "c1.wealth"
      ],
      "execution_count": 10,
      "outputs": [
        {
          "output_type": "execute_result",
          "data": {
            "text/plain": [
              "5"
            ]
          },
          "metadata": {
            "tags": []
          },
          "execution_count": 10
        }
      ]
    },
    {
      "cell_type": "code",
      "metadata": {
        "hide-output": false,
        "id": "CZjSER7JLc83",
        "colab": {
          "base_uri": "https://localhost:8080/"
        },
        "outputId": "cc3653a0-a573-4009-8045-73e30edc4992"
      },
      "source": [
        "c1.earn(15)\n",
        "c1.spend(100)"
      ],
      "execution_count": 11,
      "outputs": [
        {
          "output_type": "stream",
          "text": [
            "Insufficent funds\n"
          ],
          "name": "stdout"
        }
      ]
    },
    {
      "cell_type": "code",
      "metadata": {
        "colab": {
          "base_uri": "https://localhost:8080/"
        },
        "id": "XQSzuAp9DJiE",
        "outputId": "68e9666f-ff44-4828-9511-c127e7e015b7"
      },
      "source": [
        "c1.wealth"
      ],
      "execution_count": 12,
      "outputs": [
        {
          "output_type": "execute_result",
          "data": {
            "text/plain": [
              "20"
            ]
          },
          "metadata": {
            "tags": []
          },
          "execution_count": 12
        }
      ]
    },
    {
      "cell_type": "markdown",
      "metadata": {
        "id": "hEoNojWJLc84"
      },
      "source": [
        "Multiple instances can be created, i.e., multiple consumers,  each with their own name and  data"
      ]
    },
    {
      "cell_type": "code",
      "metadata": {
        "hide-output": false,
        "id": "yGTyNK6PLc85",
        "colab": {
          "base_uri": "https://localhost:8080/"
        },
        "outputId": "7f9c1b1b-a9f4-4812-d2f5-48da89d4785a"
      },
      "source": [
        "c1 = Consumer(10)\n",
        "c2 = Consumer(12)\n",
        "c2.spend(4)\n",
        "# YOUR CODE HERE to show c2 wealth\n",
        "c2.wealth"
      ],
      "execution_count": 13,
      "outputs": [
        {
          "output_type": "execute_result",
          "data": {
            "text/plain": [
              "8"
            ]
          },
          "metadata": {
            "tags": []
          },
          "execution_count": 13
        }
      ]
    },
    {
      "cell_type": "code",
      "metadata": {
        "hide-output": false,
        "id": "yhPNjCliLc86",
        "colab": {
          "base_uri": "https://localhost:8080/"
        },
        "outputId": "b0323f5a-f255-4558-b653-1b54b2fb9887"
      },
      "source": [
        "# YOUR CODE HERE to show c2 wealth\n",
        "c2.wealth"
      ],
      "execution_count": 14,
      "outputs": [
        {
          "output_type": "execute_result",
          "data": {
            "text/plain": [
              "8"
            ]
          },
          "metadata": {
            "tags": []
          },
          "execution_count": 14
        }
      ]
    },
    {
      "cell_type": "markdown",
      "metadata": {
        "id": "PzkCH0XZLc87"
      },
      "source": [
        "Each instance, i.e., each consumer,  stores its data in a separate namespace dictionary"
      ]
    },
    {
      "cell_type": "code",
      "metadata": {
        "hide-output": false,
        "id": "NjWicf_LLc88",
        "colab": {
          "base_uri": "https://localhost:8080/"
        },
        "outputId": "00330ca9-1f4e-406f-e3fa-844269bcae3f"
      },
      "source": [
        "c1.__dict__"
      ],
      "execution_count": 15,
      "outputs": [
        {
          "output_type": "execute_result",
          "data": {
            "text/plain": [
              "{'wealth': 10}"
            ]
          },
          "metadata": {
            "tags": []
          },
          "execution_count": 15
        }
      ]
    },
    {
      "cell_type": "code",
      "metadata": {
        "hide-output": false,
        "id": "_g7zJQmmLc89",
        "colab": {
          "base_uri": "https://localhost:8080/"
        },
        "outputId": "88e39d68-acb6-439e-c202-c6333cb8c073"
      },
      "source": [
        "# YOUR CODE HERE to display c2 wealth in a dictionary\n",
        "c2.__dict__"
      ],
      "execution_count": 16,
      "outputs": [
        {
          "output_type": "execute_result",
          "data": {
            "text/plain": [
              "{'wealth': 8}"
            ]
          },
          "metadata": {
            "tags": []
          },
          "execution_count": 16
        }
      ]
    },
    {
      "cell_type": "markdown",
      "metadata": {
        "id": "SJFIZetkLc8-"
      },
      "source": [
        "When we access or set attributes we’re actually just modifying the dictionary\n",
        "maintained by the instance."
      ]
    },
    {
      "cell_type": "markdown",
      "metadata": {
        "id": "_T-xIVtJLc8-"
      },
      "source": [
        "#### Self\n",
        "\n",
        "If you look at the `Consumer` class definition again you’ll see the word\n",
        "`self` throughout the code.\n",
        "\n",
        "The rules for using `self` in creating a Class are that\n",
        "\n",
        "- Any instance data should be prepended with `self`  \n",
        "  - e.g., the `earn` method uses `self.wealth` rather than just `wealth`  \n",
        "- A method defined within the code that defines the  class should have `self` as its first argument  \n",
        "  - e.g., `def earn(self, y)` rather than just `def earn(y)`  \n",
        "- Any method referenced within the class should be called as  `self.method_name`  \n",
        "\n",
        "\n",
        "There are no examples of the last rule in the preceding code but we will see some shortly."
      ]
    },
    {
      "cell_type": "markdown",
      "metadata": {
        "id": "Wixns710Lc9A"
      },
      "source": [
        "#### Details\n",
        "\n",
        "In this section, we look at some more formal details related to classes and `self`\n",
        "\n",
        "Methods reside inside a class object formed when the interpreter reads\n",
        "the class definition"
      ]
    },
    {
      "cell_type": "code",
      "metadata": {
        "hide-output": false,
        "id": "TbVxu1PQLc9B",
        "colab": {
          "base_uri": "https://localhost:8080/"
        },
        "outputId": "3f59d1d5-b9a2-4f0c-e867-338556b40c34"
      },
      "source": [
        "print(Consumer.__dict__)  # Show __dict__ attribute of class object"
      ],
      "execution_count": 17,
      "outputs": [
        {
          "output_type": "stream",
          "text": [
            "{'__module__': '__main__', '__init__': <function Consumer.__init__ at 0x7f679af9f200>, 'earn': <function Consumer.earn at 0x7f679af9f290>, 'spend': <function Consumer.spend at 0x7f679af9f320>, '__dict__': <attribute '__dict__' of 'Consumer' objects>, '__weakref__': <attribute '__weakref__' of 'Consumer' objects>, '__doc__': None}\n"
          ],
          "name": "stdout"
        }
      ]
    },
    {
      "cell_type": "markdown",
      "metadata": {
        "id": "5oPo27gwLc9C"
      },
      "source": [
        "Note how the three methods `__init__`, `earn` and `spend` are stored in the class object.\n",
        "\n",
        "Consider the following code"
      ]
    },
    {
      "cell_type": "code",
      "metadata": {
        "hide-output": false,
        "id": "wDBdEHy0Lc9C",
        "colab": {
          "base_uri": "https://localhost:8080/"
        },
        "outputId": "07ac6e62-97b1-4f7d-b637-3fb81b920de4"
      },
      "source": [
        "# YOUR CODE HERE to create instance with initial wealth 10 in c1 class\n",
        "c1 = Consumer(10)\n",
        "# YOUR CODE HERE to make add an earning of 10 in c1 class       \n",
        "c1.earn(10)   \n",
        "c1.wealth"
      ],
      "execution_count": 18,
      "outputs": [
        {
          "output_type": "execute_result",
          "data": {
            "text/plain": [
              "20"
            ]
          },
          "metadata": {
            "tags": []
          },
          "execution_count": 18
        }
      ]
    },
    {
      "cell_type": "markdown",
      "metadata": {
        "id": "KOaso9qTLc9E"
      },
      "source": [
        "When we call `earn` via `c1.earn(10)` the interpreter passes the instance `c1` and the argument `10` to `Consumer.earn`.\n",
        "\n",
        "In fact, the following are equivalent\n",
        "\n",
        "- `c1.earn(10)`  \n",
        "- `Consumer.earn(c1, 10)`  \n",
        "\n",
        "\n",
        "In the function call `Consumer.earn(c1, 10)` note that `c1` is the first argument.\n",
        "\n",
        "Recall that in the definition of the `earn` method, `self` is the first parameter"
      ]
    },
    {
      "cell_type": "code",
      "metadata": {
        "hide-output": false,
        "id": "2U7k0sHRLc9F"
      },
      "source": [
        "def earn(self, y):\n",
        "     \"The consumer earns y dollars\"\n",
        "     self.wealth += y"
      ],
      "execution_count": 19,
      "outputs": []
    },
    {
      "cell_type": "markdown",
      "metadata": {
        "id": "aTrjs0qYLc9G"
      },
      "source": [
        "The end result is that `self` is bound to the instance `c1` inside the function call.\n",
        "\n",
        "That’s why the statement `self.wealth += y` inside `earn` ends up modifying `c1.wealth`.\n",
        "\n",
        "\n",
        "<a id='oop-solow-growth'></a>"
      ]
    },
    {
      "cell_type": "markdown",
      "metadata": {
        "id": "tqf8GA3Lwyun"
      },
      "source": [
        "Here is a exercise question given below on creating a class of our requirement."
      ]
    },
    {
      "cell_type": "markdown",
      "metadata": {
        "id": "GAaQTz4jw-vl"
      },
      "source": [
        "**Ungraded Exercise**\n",
        "\n",
        "Exercise: Create a Bike class with max_speed (maximum speed) and mileage (Number of kms in one litre of fuel) instance attributes.\n"
      ]
    },
    {
      "cell_type": "code",
      "metadata": {
        "id": "8qEZvzVBE_M-"
      },
      "source": [
        "class Bike:\n",
        "\n",
        "  def __init__(self,var1,var2):\n",
        "    self.max_speed = var1\n",
        "    self.mileage = var2\n",
        "     "
      ],
      "execution_count": 20,
      "outputs": []
    },
    {
      "cell_type": "code",
      "metadata": {
        "id": "8vqu5fTYFQB4"
      },
      "source": [
        "scooter = Bike(120,50)\n",
        "ebike = Bike(110,60)"
      ],
      "execution_count": 21,
      "outputs": []
    },
    {
      "cell_type": "code",
      "metadata": {
        "colab": {
          "base_uri": "https://localhost:8080/"
        },
        "id": "2pu6h-JtFebt",
        "outputId": "8b139125-a19e-4330-b27e-c22cdb71968f"
      },
      "source": [
        "print(scooter.max_speed, scooter.mileage)"
      ],
      "execution_count": 22,
      "outputs": [
        {
          "output_type": "stream",
          "text": [
            "120 50\n"
          ],
          "name": "stdout"
        }
      ]
    },
    {
      "cell_type": "markdown",
      "metadata": {
        "id": "VHfHdGCP_n6Y"
      },
      "source": [
        "### Please answer the questions below to complete the experiment:\n",
        "\n",
        "\n"
      ]
    },
    {
      "cell_type": "code",
      "metadata": {
        "id": "5rVqUK1pyco1"
      },
      "source": [
        "# @title Which of the following is the right way to characterize an initializer method? { run: \"auto\", form-width: \"500px\", display-mode: \"form\" }\n",
        "Answer = \"def __init__(self, name):\" #@param [\"\",\"def __init__(name):\", \"__init__(self, name):\", \"def __init__(self, name):\"]"
      ],
      "execution_count": 24,
      "outputs": []
    },
    {
      "cell_type": "code",
      "metadata": {
        "id": "NMzKSbLIgFzQ"
      },
      "source": [
        "#@title How was the experiment? { run: \"auto\", form-width: \"500px\", display-mode: \"form\" }\n",
        "Complexity = \"Good and Challenging for me\" #@param [\"\",\"Too Simple, I am wasting time\", \"Good, But Not Challenging for me\", \"Good and Challenging for me\", \"Was Tough, but I did it\", \"Too Difficult for me\"]\n"
      ],
      "execution_count": 23,
      "outputs": []
    },
    {
      "cell_type": "code",
      "metadata": {
        "id": "DjcH1VWSFI2l"
      },
      "source": [
        "#@title If it was too easy, what more would you have liked to be added? If it was very difficult, what would you have liked to have been removed? { run: \"auto\", display-mode: \"form\" }\n",
        "Additional = \"NA\" #@param {type:\"string\"}\n"
      ],
      "execution_count": 25,
      "outputs": []
    },
    {
      "cell_type": "code",
      "metadata": {
        "id": "4VBk_4VTAxCM"
      },
      "source": [
        "#@title Can you identify the concepts from the lecture which this experiment covered? { run: \"auto\", vertical-output: true, display-mode: \"form\" }\n",
        "Concepts = \"Yes\" #@param [\"\",\"Yes\", \"No\"]\n"
      ],
      "execution_count": 26,
      "outputs": []
    },
    {
      "cell_type": "code",
      "metadata": {
        "id": "XH91cL1JWH7m"
      },
      "source": [
        "#@title  Text and image description/explanation and code comments within the experiment: { run: \"auto\", vertical-output: true, display-mode: \"form\" }\n",
        "Comments = \"Very Useful\" #@param [\"\",\"Very Useful\", \"Somewhat Useful\", \"Not Useful\", \"Didn't use\"]\n"
      ],
      "execution_count": 27,
      "outputs": []
    },
    {
      "cell_type": "code",
      "metadata": {
        "id": "z8xLqj7VWIKW"
      },
      "source": [
        "#@title Mentor Support: { run: \"auto\", vertical-output: true, display-mode: \"form\" }\n",
        "Mentor_support = \"Somewhat Useful\" #@param [\"\",\"Very Useful\", \"Somewhat Useful\", \"Not Useful\", \"Didn't use\"]\n"
      ],
      "execution_count": 28,
      "outputs": []
    },
    {
      "cell_type": "code",
      "metadata": {
        "id": "FzAZHt1zw-Y-",
        "cellView": "form",
        "colab": {
          "base_uri": "https://localhost:8080/"
        },
        "outputId": "875e2b81-e4dc-4e5f-91b9-3b4216a349cf"
      },
      "source": [
        "#@title Run this cell to submit your notebook for grading { vertical-output: true }\n",
        "try:\n",
        "  if submission_id:\n",
        "      return_id = submit_notebook()\n",
        "      if return_id : submission_id = return_id\n",
        "  else:\n",
        "      print(\"Please complete the setup first.\")\n",
        "except NameError:\n",
        "  print (\"Please complete the setup first.\")"
      ],
      "execution_count": 29,
      "outputs": [
        {
          "output_type": "stream",
          "text": [
            "Your submission is successful.\n",
            "Ref Id: 2701\n",
            "Date of submission:  08 Aug 2021\n",
            "Time of submission:  14:58:57\n",
            "View your submissions: https://cds.iisc.talentsprint.com/notebook_submissions\n"
          ],
          "name": "stdout"
        }
      ]
    }
  ]
}