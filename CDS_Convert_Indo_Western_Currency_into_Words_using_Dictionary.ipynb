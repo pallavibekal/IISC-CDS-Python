{
  "nbformat": 4,
  "nbformat_minor": 0,
  "metadata": {
    "colab": {
      "name": "CDS -Convert Indo Western Currency into Words using Dictionary.ipynb",
      "provenance": [],
      "collapsed_sections": [],
      "authorship_tag": "ABX9TyPnPzcGBY90NDLJRnJIdtCn",
      "include_colab_link": true
    },
    "kernelspec": {
      "name": "python3",
      "display_name": "Python 3"
    },
    "language_info": {
      "name": "python"
    }
  },
  "cells": [
    {
      "cell_type": "markdown",
      "metadata": {
        "id": "view-in-github",
        "colab_type": "text"
      },
      "source": [
        "<a href=\"https://colab.research.google.com/github/pallavibekal/IISC-CDS-Python/blob/main/CDS_Convert_Indo_Western_Currency_into_Words_using_Dictionary.ipynb\" target=\"_parent\"><img src=\"https://colab.research.google.com/assets/colab-badge.svg\" alt=\"Open In Colab\"/></a>"
      ]
    },
    {
      "cell_type": "code",
      "metadata": {
        "id": "Oi1PZMRbsBsx"
      },
      "source": [
        "def indian_split(num: int) -> list:\n",
        "  # Split the numbers into 11:11:11:111 -> Crores:Lakhs:Thousands:Hundreds\n",
        "    last_3 = str(num)[-3:] #Separate the Units, Tens and Thousands\n",
        "    n = 2 #Slice Length after\n",
        "    chunks = []\n",
        "    chunks.append(int(last_3))\n",
        "    new_num = str(num)[:-3][::-1]\n",
        "    i = 0\n",
        "    while i < len(str(new_num)):\n",
        "        if i+n < len(new_num):\n",
        "            chunks.append(int(new_num[i:i+n][::-1]))\n",
        "        else:\n",
        "            chunks.append(int(new_num[i:len(str(num))][::-1]))\n",
        "        i += n\n",
        "    return chunks[::-1]\n",
        "\n",
        "def western_split(num: int) -> list:\n",
        "   # Split the number into 111:111:111:111 -> Billion:Million:Thousands:Hundreds \n",
        "    chunks = []\n",
        "    new_num = str(num)[::-1]\n",
        "    n = 3 # Slice Length\n",
        "    i = 0\n",
        "    \n",
        "    while i < len(str(new_num)):\n",
        "        if i+n < len(new_num):\n",
        "            chunks.append(int(new_num[i:i+n][::-1]))\n",
        "        else:\n",
        "            chunks.append(int(new_num[i:len(str(num))][::-1]))\n",
        "        i += n\n",
        "    return chunks[::-1]\n"
      ],
      "execution_count": 1,
      "outputs": []
    },
    {
      "cell_type": "code",
      "metadata": {
        "id": "e8oKkiHMsHbY"
      },
      "source": [
        "def num2digit(num: int) -> str:\n",
        "  # Convert 2 digit blocks into words\n",
        "    word=[]\n",
        "    word_str=\" \"\n",
        "    if num > 0 and num < 21:\n",
        "        word.append(dict_place[1][num])\n",
        "    if num > 20 and num < 100:\n",
        "        x, y = divmod(num,10)\n",
        "        word.append(dict_place[2][x])\n",
        "        word.append(dict_place[1][y])\n",
        "    return(word_str.join(word))\n",
        "\n",
        "def num3digit(num: int) -> str:\n",
        "  # Convert 3 digit blocks into words\n",
        "    word=[]\n",
        "    word_str=\" \"\n",
        "    x, y = divmod(num, 100)\n",
        "    word.append(dict_place[3][x])\n",
        "    if y < 21:\n",
        "        word.append(dict_place[1][y])\n",
        "    else:\n",
        "        word.append(dict_place[2][int(str(y)[0])])\n",
        "        word.append(dict_place[1][int(str(y)[1])])\n",
        "    return word_str.join(word)"
      ],
      "execution_count": 2,
      "outputs": []
    },
    {
      "cell_type": "code",
      "metadata": {
        "id": "eHh39EuisKJE"
      },
      "source": [
        "def indian_words(n: int) -> list:\n",
        "  # To convert into the Indo Currency System\n",
        "    \n",
        "    lista = indian_split(n)\n",
        "    word = []\n",
        "    word_str = \" \"\n",
        "\n",
        "    if len(str(n)) <= 3:\n",
        "        word.append(num2digit(n))\n",
        "    else:\n",
        "        for i in range(len(lista)):\n",
        "            if len(lista)-i > 1 and lista[i] > 0:\n",
        "                word.append(num2digit(lista[i]))\n",
        "                word.append(dict_place[4][len(lista)-i])\n",
        "            if len(lista)-i == 1:\n",
        "                word.append(num3digit(lista[i]))\n",
        "\n",
        "    return (word_str.join(word))\n",
        "\n",
        "def western_words(n: int) ->list:\n",
        "  # To convert into the western Currency System\n",
        "    lista = western_split(n)\n",
        "    word = []\n",
        "    word_str = \" \"\n",
        "\n",
        "    if len(str(n)) <= 3:\n",
        "        word.append(num2digit(n))\n",
        "    else:\n",
        "        for i in range(len(lista)):\n",
        "            if len(lista)-i > 1 and lista[i] > 0:\n",
        "                if len(str(lista[i])) < 3:\n",
        "                    word.append(num2digit(lista[i]))\n",
        "                    word.append(dict_place[5][len(lista)-i])\n",
        "                if len(str(lista[i])) == 3:\n",
        "                    word.append(num3digit(lista[i]))\n",
        "                    word.append(dict_place[5][len(lista)-i])\n",
        "            if len(lista)-i == 1:\n",
        "                word.append(num3digit(lista[i]))\n",
        "\n",
        "    return (word_str.join(word))"
      ],
      "execution_count": 3,
      "outputs": []
    },
    {
      "cell_type": "code",
      "metadata": {
        "colab": {
          "base_uri": "https://localhost:8080/"
        },
        "id": "JaTLr71TsN3h",
        "outputId": "2e3e2de6-7561-46b2-acb4-5d5b6b518bb1"
      },
      "source": [
        "dict_place = {1: {0: \"\", 1: \"One \", 2: \"Two \", 3: \"Three \", 4: \"Four \", 5: \"Five \", 6: \"Six \", 7: \"Seven \", 8: \"Eight \",\n",
        "                  9: \"Nine \", 10: \"Ten\", 11: \"Eleven\", 12: \"Twelve\", 13: \"Thirteen\", 14: \"Fourteen\", 15: \"Fifteen\", 16: \"Sixteen\", 17: \"Seventeen\",\n",
        "                 18: \"Eighteen\", 19: \"Nineteen\", 20: \"Twenty\"},\n",
        "              2: {0: \"\", 1: \"Ten \", 2: \"Twenty \", 3: \"Thirty \", 4: \"Forty \", 5: \"Fifty \", 6: \"Sixty \", 7: \"Seventy \", 8: \"Eighty \",\n",
        "                  9: \"Ninety \", 10: \"One Hundred\"},\n",
        "              3: {0: \"\", 1: \"One Hundred and \", 2: \"Two Hundred and \", 3: \"Three Hundred and \", 4: \"Four Hundred and \",\n",
        "                  5: \"Five Hundred and \", 6: \"Six Hundred and \", 7: \"Seven Hundred and \", 8: \"Eight Hundred and \",\n",
        "                  9: \"Nine Hundred and \", 10: \"Hundred and\"},\n",
        "              4: {1: \"Hundred\", 2: \"Thousand\", 3: \"Lakh\", 4: \"Crore\"},\n",
        "              5: {2: \"Thousand\", 3: \"Million\", 4: \"Billion\", 5: \"Trillion\"}\n",
        "             }\n",
        "n = 17899000\n",
        "print(western_words(n))\n",
        "print(indian_words(n))\n"
      ],
      "execution_count": 4,
      "outputs": [
        {
          "output_type": "stream",
          "text": [
            "Seventeen Million Eight Hundred and  Ninety  Nine  Thousand  \n",
            "One  Crore Seventy  Eight  Lakh Ninety  Nine  Thousand  \n"
          ],
          "name": "stdout"
        }
      ]
    },
    {
      "cell_type": "code",
      "metadata": {
        "id": "AWrzlrnNsTeI"
      },
      "source": [
        ""
      ],
      "execution_count": null,
      "outputs": []
    }
  ]
}